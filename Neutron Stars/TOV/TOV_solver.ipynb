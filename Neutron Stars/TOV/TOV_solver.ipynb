{
 "cells": [
  {
   "cell_type": "code",
   "execution_count": 1,
   "id": "aea021e7-25cd-4bd3-9cda-624191393cfb",
   "metadata": {
    "tags": []
   },
   "outputs": [],
   "source": [
    "import numpy as np\n",
    "import matplotlib.pyplot as plt\n",
    "import time"
   ]
  },
  {
   "cell_type": "markdown",
   "id": "91819cd2-2913-44b2-820d-33114a424e23",
   "metadata": {},
   "source": [
    "The TOV Equations used are \n",
    "dm/dr = 4*r*pi^2*eps and\n",
    "dp/dr = -(eps + p) * (G*m + 4*pi*r^3*G*p)/r(r-2G*m)\n",
    "\n",
    "Using the bag model for the EOS, eps(p) = 3*p + 4*B^4 (B is given as 0.2 GeV)\n",
    "\n",
    "Input parameters: p_0 (pressure at the center of the star), delta_r\n",
    "\n",
    "In the function solve_TOV, we input delta_r and p at the center (p_0) and append lists of radius, mass, and pressure by integrating the TOV equations. This is repeated until p is close to zero at which point, the last value of r and m are the R and M of the neutron star.\n",
    "\n",
    "I looped through various values of p_0 and I set delta_r to be 1. M and R are the lists of neutron star masses and radi with different p_0.\n",
    "\n",
    "This information was obtained from lecture notes by Professor Romatschke"
   ]
  },
  {
   "cell_type": "code",
   "execution_count": 2,
   "id": "1c891cb1-848d-44bf-9d2b-752137ea529a",
   "metadata": {
    "tags": []
   },
   "outputs": [],
   "source": [
    "#gravitational constant\n",
    "G = 6.6743 * 10**(-11)"
   ]
  },
  {
   "cell_type": "code",
   "execution_count": 3,
   "id": "4cc47ac7-2ae5-4b02-8e7d-604e44b98a22",
   "metadata": {
    "tags": []
   },
   "outputs": [],
   "source": [
    "#EOS\n",
    "#B = 0.2 GeV\n",
    "B = 0.2\n",
    "def eps(p):\n",
    "    return 3 * p + 4 * B**4"
   ]
  },
  {
   "cell_type": "code",
   "execution_count": 4,
   "id": "6c3598fa-db31-436f-83b5-d1fcf3f48620",
   "metadata": {},
   "outputs": [],
   "source": [
    "def solve_TOV(delta_r, p_0):\n",
    "    #i is the iteration\n",
    "    i = 0\n",
    "    #stored variables\n",
    "    r = [0]\n",
    "    m = [0]\n",
    "    p = [p_0]\n",
    "    #check to see if the pressure is below the threshold\n",
    "    while min(p) > 0.01:\n",
    "        #append the list of r with the current value of r\n",
    "        r.append(r[i] + delta_r)\n",
    "        \n",
    "        #append the list of m\n",
    "        dmdr = 4 * np.pi * r[i+1]**2 * eps(p[i])\n",
    "        #m[i+1] = m[i] + dr * dm/dr\n",
    "        m.append(m[i] + delta_r * dmdr) \n",
    "        \n",
    "        #append the list of p\n",
    "        dpdr = -(eps(p[i])+p[i]) * (G*m[i]+4*np.pi*r[i+1]**3*G*p[i]) / (r[i+1]*(r[i+1]-2*G*m[i]))\n",
    "        #p[i+1] = p[i] + dr * dp/dr\n",
    "        p.append(p[i] + delta_r * dpdr)\n",
    "        \n",
    "        i += 1\n",
    "    return(r, m, p)"
   ]
  },
  {
   "cell_type": "code",
   "execution_count": 5,
   "id": "09cf189b-97e9-46e0-ab39-b75895e0605d",
   "metadata": {
    "tags": []
   },
   "outputs": [],
   "source": [
    "p_0 = [0.1, 1, 10, 100, 1000, 10000, 100000]\n",
    "R = np.zeros(len(p_0))\n",
    "M = np.zeros(len(p_0))\n",
    "P = np.zeros(len(p_0))"
   ]
  },
  {
   "cell_type": "code",
   "execution_count": 6,
   "id": "406c9f10-58e6-4710-9393-248ba2db06b4",
   "metadata": {
    "tags": []
   },
   "outputs": [
    {
     "name": "stdout",
     "output_type": "stream",
     "text": [
      "2.4154312292734783 m\n"
     ]
    }
   ],
   "source": [
    "start = time.time()\n",
    "for i in range(len(p_0)):\n",
    "    r, m, p = solve_TOV(1, p_0[i])\n",
    "    R[i], M[i], P[i] = max(r), max(m), min(p)\n",
    "end = time.time()\n",
    "print((end-start)/60, \"m\")"
   ]
  },
  {
   "cell_type": "code",
   "execution_count": 7,
   "id": "23f20dbe-65dd-41d6-8839-0a5056aca7d5",
   "metadata": {
    "tags": []
   },
   "outputs": [
    {
     "name": "stdout",
     "output_type": "stream",
     "text": [
      "[102585.  81922.  83801.  87363.  85863.  85755.  86063.]\n",
      "[3.69295949e+14 2.89071932e+14 2.62682577e+14 2.85153564e+14\n",
      " 2.82637200e+14 2.79530344e+14 2.81050955e+14]\n",
      "[0.00999981 0.00999977 0.00999982 0.00999982 0.00999991 0.00999996\n",
      " 0.00999975]\n",
      "[0.03639944 0.03639931 0.03639945 0.03639947 0.03639974 0.03639987\n",
      " 0.03639925]\n"
     ]
    }
   ],
   "source": [
    "print(R)\n",
    "print(M)\n",
    "print(P)\n",
    "print(eps(P))"
   ]
  },
  {
   "cell_type": "code",
   "execution_count": 8,
   "id": "d7b6afb2-14ed-43fd-b987-510f776894cd",
   "metadata": {
    "tags": []
   },
   "outputs": [
    {
     "data": {
      "text/plain": [
       "[<matplotlib.lines.Line2D at 0x7f6116bbd6d0>]"
      ]
     },
     "execution_count": 8,
     "metadata": {},
     "output_type": "execute_result"
    },
    {
     "data": {
      "image/png": "[encoded data removed]",
      "text/plain": [
       "<Figure size 640x480 with 1 Axes>"
      ]
     },
     "metadata": {},
     "output_type": "display_data"
    }
   ],
   "source": [
    "plt.xlabel(\"radius\")\n",
    "plt.ylabel(\"mass\")\n",
    "plt.plot(R, M)"
   ]
  },
  {
   "cell_type": "code",
   "execution_count": null,
   "id": "4afd4d3a-5591-406d-b5c5-ea06adc27a5f",
   "metadata": {},
   "outputs": [],
   "source": []
  }
 ],
 "metadata": {
  "kernelspec": {
   "display_name": "Python 3 (ipykernel)",
   "language": "python",
   "name": "python3"
  },
  "language_info": {
   "codemirror_mode": {
    "name": "ipython",
    "version": 3
   },
   "file_extension": ".py",
   "mimetype": "text/x-python",
   "name": "python",
   "nbconvert_exporter": "python",
   "pygments_lexer": "ipython3",
   "version": "3.11.9"
  }
 },
 "nbformat": 4,
 "nbformat_minor": 5
}
